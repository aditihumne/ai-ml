{
 "cells": [
  {
   "cell_type": "code",
   "execution_count": 1,
   "id": "fc42d1cd-c00a-4938-a0f4-431bbc6135c7",
   "metadata": {
    "tags": []
   },
   "outputs": [],
   "source": [
    "import cv2\n",
    "import numpy as np\n",
    "from matplotlib import pyplot as plt\n",
    "from scipy import ndimage\n",
    "from skimage import measure, color, io"
   ]
  },
  {
   "cell_type": "code",
   "execution_count": 2,
   "id": "4882b67d-500c-4460-ad7f-62975e8ae4f6",
   "metadata": {
    "tags": []
   },
   "outputs": [],
   "source": [
    "img1 = cv2.imread(\"grains1.jpg\")\n",
    "img = cv2.cvtColor(img1,cv2.COLOR_BGR2GRAY)"
   ]
  },
  {
   "cell_type": "code",
   "execution_count": 3,
   "id": "11732bb8-eb11-46fb-9aaf-18690dc283c9",
   "metadata": {},
   "outputs": [],
   "source": [
    "pixels_to_um = 0.5 # 1 pixel = 500 nm (got this from the metadata of original image)\n"
   ]
  },
  {
   "cell_type": "code",
   "execution_count": 5,
   "id": "39a6ce27-a45e-4399-865a-bbecdcbba030",
   "metadata": {
    "tags": []
   },
   "outputs": [
    {
     "data": {
      "text/plain": [
       "-1"
      ]
     },
     "execution_count": 5,
     "metadata": {},
     "output_type": "execute_result"
    }
   ],
   "source": [
    "# ret1, thresh = cv2.threshold(img, 30, 255, cv2.THRESH_BINARY)\n",
    "ret1, thresh = cv2.threshold(img, 0, 255, cv2.THRESH_BINARY+cv2.THRESH_OTSU)\n",
    "cv2.imshow('Colored Grains', thresh)\n",
    "cv2.waitKey(0)"
   ]
  },
  {
   "cell_type": "code",
   "execution_count": 6,
   "id": "b5c69c72-dfb6-4aaf-8a05-8870ed28cfe2",
   "metadata": {},
   "outputs": [
    {
     "data": {
      "text/plain": [
       "-1"
      ]
     },
     "execution_count": 6,
     "metadata": {},
     "output_type": "execute_result"
    }
   ],
   "source": [
    "kernel = np.ones((3,3),np.uint8)\n",
    "opening = cv2.morphologyEx(thresh,cv2.MORPH_OPEN,kernel, iterations = 2)\n",
    "cv2.imshow('Colored Grains',opening )\n",
    "cv2.waitKey(0)\n"
   ]
  },
  {
   "cell_type": "code",
   "execution_count": null,
   "id": "984357ff-e319-4068-b31d-102bbca3db2d",
   "metadata": {},
   "outputs": [],
   "source": [
    "# from skimage.segmentation import clear_border\n",
    "# opening = clear_border(opening) "
   ]
  },
  {
   "cell_type": "code",
   "execution_count": 7,
   "id": "4df85d3a-73f1-4489-9fd1-44edff0c1e0e",
   "metadata": {
    "tags": []
   },
   "outputs": [
    {
     "data": {
      "text/plain": [
       "-1"
      ]
     },
     "execution_count": 7,
     "metadata": {},
     "output_type": "execute_result"
    }
   ],
   "source": [
    "sure_bg = cv2.dilate(opening,kernel,iterations=2)\n",
    "cv2.imshow('Colored Grains',sure_bg )\n",
    "cv2.waitKey(0)"
   ]
  },
  {
   "cell_type": "code",
   "execution_count": 8,
   "id": "323b1d90-adfa-4c1f-a85d-599bf5dabbc3",
   "metadata": {
    "tags": []
   },
   "outputs": [
    {
     "data": {
      "text/plain": [
       "-1"
      ]
     },
     "execution_count": 8,
     "metadata": {},
     "output_type": "execute_result"
    }
   ],
   "source": [
    "dist_transform = cv2.distanceTransform(opening,cv2.DIST_L2,3)\n",
    "cv2.imshow('Colored Grains',dist_transform)\n",
    "cv2.waitKey(0)"
   ]
  },
  {
   "cell_type": "code",
   "execution_count": 9,
   "id": "07de8379-7e29-4ff2-8529-a0d15c5da5c2",
   "metadata": {
    "tags": []
   },
   "outputs": [],
   "source": [
    "ret2, sure_fg = cv2.threshold(dist_transform,0.2*dist_transform.max(),255,0)"
   ]
  },
  {
   "cell_type": "code",
   "execution_count": 10,
   "id": "143bb528-b1c7-43ce-b6d5-ec72c0b4cc5e",
   "metadata": {
    "tags": []
   },
   "outputs": [
    {
     "data": {
      "text/plain": [
       "-1"
      ]
     },
     "execution_count": 10,
     "metadata": {},
     "output_type": "execute_result"
    }
   ],
   "source": [
    "sure_fg = np.uint8(sure_fg)\n",
    "unknown = cv2.subtract(sure_bg,sure_fg)\n",
    "cv2.imshow('Colored Grains', unknown)\n",
    "cv2.waitKey(0)"
   ]
  },
  {
   "cell_type": "code",
   "execution_count": 11,
   "id": "098b4efa-3a08-435b-ab4b-4193da972a6d",
   "metadata": {
    "tags": []
   },
   "outputs": [],
   "source": [
    "ret3, markers = cv2.connectedComponents(sure_fg)\n"
   ]
  },
  {
   "cell_type": "code",
   "execution_count": 12,
   "id": "53584889-ac78-4c70-9ac2-cdfa6332037c",
   "metadata": {
    "tags": []
   },
   "outputs": [],
   "source": [
    "markers = markers+10\n",
    "\n",
    "# Now, mark the region of unknown with zero\n",
    "markers[unknown==255] = 0"
   ]
  },
  {
   "cell_type": "code",
   "execution_count": 13,
   "id": "271c6888-5005-4b0f-9945-7cd08868f772",
   "metadata": {
    "tags": []
   },
   "outputs": [],
   "source": [
    "markers = cv2.watershed(img1,markers)"
   ]
  },
  {
   "cell_type": "code",
   "execution_count": 14,
   "id": "c2a234b5-8b13-4629-992a-07166c6f534c",
   "metadata": {
    "tags": []
   },
   "outputs": [
    {
     "data": {
      "text/plain": [
       "-1"
      ]
     },
     "execution_count": 14,
     "metadata": {},
     "output_type": "execute_result"
    }
   ],
   "source": [
    "img1[markers == -1] = [0,255,255]  \n",
    "\n",
    "img2 = color.label2rgb(markers, bg_label=0)\n",
    "\n",
    "cv2.imshow('Overlay on original image', img1)\n",
    "cv2.imshow('Colored Grains', img2)\n",
    "cv2.waitKey(0)\n"
   ]
  },
  {
   "cell_type": "code",
   "execution_count": 15,
   "id": "b9ffde1a-8903-4cfc-b136-f123912e626a",
   "metadata": {
    "tags": []
   },
   "outputs": [],
   "source": [
    "regions = measure.regionprops(markers, intensity_image=img)\n"
   ]
  },
  {
   "cell_type": "code",
   "execution_count": 16,
   "id": "570cfd16-97ce-44de-9235-9fe8e89005b7",
   "metadata": {
    "tags": []
   },
   "outputs": [
    {
     "name": "stdout",
     "output_type": "stream",
     "text": [
      "Label: 10 Area: 38126.0\n",
      "Label: 11 Area: 270.0\n",
      "Label: 12 Area: 74.0\n",
      "Label: 13 Area: 81.0\n",
      "Label: 14 Area: 35.0\n",
      "Label: 15 Area: 534.0\n",
      "Label: 16 Area: 62.0\n",
      "Label: 17 Area: 444.0\n",
      "Label: 18 Area: 430.0\n",
      "Label: 19 Area: 103.0\n",
      "Label: 20 Area: 85.0\n",
      "Label: 21 Area: 91.0\n",
      "Label: 22 Area: 318.0\n",
      "Label: 23 Area: 159.0\n",
      "Label: 24 Area: 151.0\n",
      "Label: 25 Area: 66.0\n",
      "Label: 26 Area: 69.0\n",
      "Label: 27 Area: 162.0\n",
      "Label: 28 Area: 88.0\n",
      "Label: 29 Area: 231.0\n",
      "Label: 30 Area: 140.0\n",
      "Label: 31 Area: 99.0\n",
      "Label: 32 Area: 147.0\n",
      "Label: 33 Area: 180.0\n",
      "Label: 34 Area: 94.0\n",
      "Label: 35 Area: 95.0\n",
      "Label: 36 Area: 100.0\n",
      "Label: 37 Area: 59.0\n",
      "Label: 38 Area: 65.0\n",
      "Label: 39 Area: 240.0\n",
      "Label: 40 Area: 384.0\n",
      "Label: 41 Area: 40.0\n",
      "Label: 42 Area: 53.0\n",
      "Label: 43 Area: 275.0\n",
      "Label: 44 Area: 138.0\n",
      "Label: 45 Area: 83.0\n",
      "Label: 46 Area: 290.0\n",
      "Label: 47 Area: 126.0\n",
      "Label: 48 Area: 80.0\n",
      "Label: 49 Area: 245.0\n",
      "Label: 50 Area: 107.0\n",
      "Label: 51 Area: 65.0\n",
      "Label: 52 Area: 132.0\n",
      "Label: 53 Area: 144.0\n",
      "Label: 54 Area: 282.0\n",
      "Label: 55 Area: 90.0\n",
      "Label: 56 Area: 860.0\n",
      "Label: 57 Area: 190.0\n",
      "Label: 58 Area: 387.0\n",
      "Label: 59 Area: 55.0\n",
      "Label: 60 Area: 599.0\n",
      "Label: 61 Area: 58.0\n",
      "Label: 62 Area: 319.0\n",
      "Label: 63 Area: 93.0\n",
      "Label: 64 Area: 667.0\n",
      "Label: 65 Area: 57.0\n",
      "Label: 66 Area: 49.0\n",
      "Label: 67 Area: 90.0\n",
      "Label: 68 Area: 156.0\n",
      "Label: 69 Area: 76.0\n",
      "Label: 70 Area: 182.0\n",
      "Label: 71 Area: 311.0\n",
      "Label: 72 Area: 33.0\n",
      "Label: 73 Area: 1.0\n",
      "Label: 74 Area: 122.0\n",
      "Label: 75 Area: 1037.0\n",
      "Label: 76 Area: 51.0\n",
      "Label: 77 Area: 40.0\n",
      "Label: 78 Area: 341.0\n",
      "Label: 79 Area: 44.0\n",
      "Label: 80 Area: 91.0\n",
      "Label: 81 Area: 83.0\n",
      "Label: 82 Area: 122.0\n",
      "Label: 83 Area: 2.0\n",
      "Label: 84 Area: 164.0\n",
      "Label: 85 Area: 158.0\n",
      "Label: 86 Area: 285.0\n",
      "Label: 87 Area: 84.0\n",
      "Label: 88 Area: 921.0\n",
      "Label: 89 Area: 95.0\n",
      "Label: 90 Area: 162.0\n",
      "Label: 91 Area: 201.0\n",
      "Label: 92 Area: 54.0\n",
      "Label: 93 Area: 27.0\n",
      "Label: 94 Area: 288.0\n",
      "Label: 95 Area: 180.0\n",
      "Label: 97 Area: 2.0\n",
      "Label: 98 Area: 220.0\n",
      "Label: 99 Area: 499.0\n",
      "Label: 100 Area: 238.0\n",
      "Label: 101 Area: 109.0\n",
      "Label: 102 Area: 97.0\n",
      "Label: 103 Area: 163.0\n",
      "Label: 104 Area: 52.0\n",
      "Label: 105 Area: 43.0\n",
      "Label: 106 Area: 311.0\n",
      "Label: 107 Area: 43.0\n",
      "Label: 108 Area: 276.0\n",
      "Label: 109 Area: 82.0\n",
      "Label: 110 Area: 130.0\n",
      "Label: 111 Area: 93.0\n",
      "Label: 112 Area: 445.0\n",
      "Label: 113 Area: 41.0\n",
      "Label: 114 Area: 232.0\n",
      "Label: 115 Area: 192.0\n",
      "Label: 116 Area: 158.0\n",
      "Label: 117 Area: 125.0\n",
      "Label: 118 Area: 196.0\n",
      "Label: 119 Area: 51.0\n",
      "Label: 120 Area: 138.0\n",
      "Label: 121 Area: 226.0\n",
      "Label: 122 Area: 53.0\n",
      "Label: 123 Area: 99.0\n",
      "Label: 124 Area: 76.0\n",
      "Label: 125 Area: 274.0\n",
      "Label: 126 Area: 256.0\n",
      "Label: 127 Area: 120.0\n",
      "Label: 128 Area: 258.0\n",
      "Label: 129 Area: 112.0\n",
      "Label: 130 Area: 141.0\n",
      "Label: 131 Area: 90.0\n",
      "Label: 132 Area: 62.0\n",
      "Label: 133 Area: 105.0\n",
      "Label: 134 Area: 134.0\n",
      "Label: 135 Area: 95.0\n",
      "Label: 136 Area: 97.0\n",
      "Label: 137 Area: 50.0\n",
      "Label: 138 Area: 121.0\n",
      "Label: 139 Area: 41.0\n",
      "Label: 140 Area: 73.0\n",
      "Label: 141 Area: 89.0\n",
      "Label: 142 Area: 130.0\n",
      "Label: 143 Area: 77.0\n",
      "Label: 144 Area: 131.0\n",
      "Label: 145 Area: 213.0\n",
      "Label: 146 Area: 69.0\n",
      "Label: 147 Area: 113.0\n",
      "Label: 148 Area: 122.0\n",
      "Label: 149 Area: 231.0\n",
      "Label: 150 Area: 87.0\n",
      "Label: 151 Area: 123.0\n",
      "Label: 152 Area: 105.0\n",
      "Label: 153 Area: 120.0\n",
      "Label: 154 Area: 430.0\n",
      "Label: 155 Area: 57.0\n",
      "Label: 156 Area: 92.0\n",
      "Label: 157 Area: 142.0\n",
      "Label: 158 Area: 65.0\n",
      "Label: 159 Area: 78.0\n",
      "Label: 160 Area: 67.0\n",
      "Label: 161 Area: 118.0\n",
      "Label: 162 Area: 108.0\n",
      "Label: 163 Area: 52.0\n",
      "Label: 164 Area: 138.0\n",
      "Label: 165 Area: 91.0\n",
      "Label: 166 Area: 74.0\n",
      "Label: 167 Area: 438.0\n",
      "Label: 168 Area: 104.0\n",
      "Label: 169 Area: 73.0\n",
      "Label: 170 Area: 152.0\n",
      "Label: 171 Area: 41.0\n",
      "Label: 172 Area: 167.0\n",
      "Label: 173 Area: 372.0\n",
      "Label: 174 Area: 593.0\n",
      "Label: 175 Area: 95.0\n",
      "Label: 176 Area: 389.0\n",
      "Label: 177 Area: 142.0\n",
      "Label: 178 Area: 125.0\n",
      "Label: 179 Area: 229.0\n",
      "Label: 180 Area: 85.0\n",
      "Label: 181 Area: 239.0\n",
      "Label: 182 Area: 264.0\n",
      "Label: 183 Area: 74.0\n",
      "Label: 184 Area: 226.0\n",
      "Label: 185 Area: 162.0\n",
      "Label: 186 Area: 50.0\n",
      "Label: 187 Area: 68.0\n",
      "Label: 188 Area: 161.0\n",
      "Label: 189 Area: 60.0\n",
      "Label: 190 Area: 247.0\n",
      "Label: 191 Area: 58.0\n",
      "Label: 192 Area: 69.0\n",
      "Label: 193 Area: 70.0\n",
      "Label: 194 Area: 177.0\n",
      "Label: 195 Area: 81.0\n",
      "Label: 196 Area: 130.0\n",
      "Label: 197 Area: 60.0\n",
      "Label: 198 Area: 112.0\n",
      "Label: 199 Area: 67.0\n"
     ]
    }
   ],
   "source": [
    "#Can print various parameters for all objects\n",
    "for prop in regions:\n",
    "    print('Label: {} Area: {}'.format(prop.label, prop.area))\n",
    "\n",
    "#Best way is to output all properties to a csv file\n",
    "#Let us pick which ones we want to export. \n",
    "\n",
    "# propList = ['Area',\n",
    "            # 'equivalent_diameter', #Added... verify if it works\n",
    "            # 'orientation', #Added, verify if it works. Angle btwn x-axis and major axis.\n",
    "            # 'MajorAxisLength',\n",
    "            # 'MinorAxisLength',\n",
    "            # 'Perimeter',\n",
    "            # 'MinIntensity',\n",
    "            # 'MeanIntensity',\n",
    "            # 'MaxIntensity']    \n",
    "    \n"
   ]
  },
  {
   "cell_type": "code",
   "execution_count": 17,
   "id": "c2d8340b-e70a-4c0a-949b-40dceb1ca9f4",
   "metadata": {
    "tags": []
   },
   "outputs": [],
   "source": [
    "propList = ['Area',\n",
    "            'equivalent_diameter', #Added... verify if it works\n",
    "            'orientation', #Added, verify if it works. Angle btwn x-axis and major axis.\n",
    "            'MajorAxisLength',\n",
    "            'MinorAxisLength',\n",
    "            'Perimeter',\n",
    "            'MinIntensity',\n",
    "            'MeanIntensity',\n",
    "            'MaxIntensity']    \n",
    "    "
   ]
  },
  {
   "cell_type": "code",
   "execution_count": 18,
   "id": "f8eb7be5-86be-402e-a399-a95a04d85774",
   "metadata": {
    "tags": []
   },
   "outputs": [],
   "source": [
    "output_file = open('image_measurements.csv', 'w')\n",
    "output_file.write('Grain #' + \",\" + \",\" + \",\".join(propList) + '\\n') #join strings in array by commas, \n",
    "#First cell to print grain number\n",
    "#Second cell blank as we will not print Label column\n",
    "\n",
    "grain_number = 1\n",
    "for region_props in regions:\n",
    "    output_file.write(str(grain_number) + ',')\n",
    "    #output cluster properties to the excel file\n",
    "#    output_file.write(str(region_props['Label']))\n",
    "    for i,prop in enumerate(propList):\n",
    "        if(prop == 'Area'): \n",
    "            to_print = region_props[prop]*pixels_to_um**2   #Convert pixel square to um square\n",
    "        elif(prop == 'orientation'): \n",
    "            to_print = region_props[prop]*57.2958  #Convert to degrees from radians\n",
    "        elif(prop.find('Intensity') < 0):          # Any prop without Intensity in its name\n",
    "            to_print = region_props[prop]*pixels_to_um\n",
    "        else: \n",
    "            to_print = region_props[prop]     #Reamining props, basically the ones with Intensity in its name\n",
    "        output_file.write(',' + str(to_print))\n",
    "    output_file.write('\\n')\n",
    "    grain_number += 1\n",
    "    \n",
    "output_file.close()   #Closes the file, otherwise it would be read only. "
   ]
  },
  {
   "cell_type": "code",
   "execution_count": 19,
   "id": "0fb33215-4843-4053-9975-47a24f8d6c26",
   "metadata": {},
   "outputs": [],
   "source": [
    "import pandas as pd\n",
    "import matplotlib.pyplot as plt"
   ]
  },
  {
   "cell_type": "code",
   "execution_count": 20,
   "id": "caee5fdc-2b38-45e7-8925-fad707d8dff7",
   "metadata": {
    "tags": []
   },
   "outputs": [
    {
     "data": {
      "text/html": [
       "<div>\n",
       "<style scoped>\n",
       "    .dataframe tbody tr th:only-of-type {\n",
       "        vertical-align: middle;\n",
       "    }\n",
       "\n",
       "    .dataframe tbody tr th {\n",
       "        vertical-align: top;\n",
       "    }\n",
       "\n",
       "    .dataframe thead th {\n",
       "        text-align: right;\n",
       "    }\n",
       "</style>\n",
       "<table border=\"1\" class=\"dataframe\">\n",
       "  <thead>\n",
       "    <tr style=\"text-align: right;\">\n",
       "      <th></th>\n",
       "      <th>Grain #</th>\n",
       "      <th>Unnamed: 1</th>\n",
       "      <th>Area</th>\n",
       "      <th>equivalent_diameter</th>\n",
       "      <th>orientation</th>\n",
       "      <th>MajorAxisLength</th>\n",
       "      <th>MinorAxisLength</th>\n",
       "      <th>Perimeter</th>\n",
       "      <th>MinIntensity</th>\n",
       "      <th>MeanIntensity</th>\n",
       "      <th>MaxIntensity</th>\n",
       "    </tr>\n",
       "  </thead>\n",
       "  <tbody>\n",
       "    <tr>\n",
       "      <th>0</th>\n",
       "      <td>1</td>\n",
       "      <td>NaN</td>\n",
       "      <td>9531.50</td>\n",
       "      <td>110.162983</td>\n",
       "      <td>84.172789</td>\n",
       "      <td>182.994759</td>\n",
       "      <td>142.225502</td>\n",
       "      <td>4166.742656</td>\n",
       "      <td>6.0</td>\n",
       "      <td>86.684887</td>\n",
       "      <td>255.0</td>\n",
       "    </tr>\n",
       "    <tr>\n",
       "      <th>1</th>\n",
       "      <td>2</td>\n",
       "      <td>NaN</td>\n",
       "      <td>67.50</td>\n",
       "      <td>9.270581</td>\n",
       "      <td>-7.396922</td>\n",
       "      <td>11.136632</td>\n",
       "      <td>7.995843</td>\n",
       "      <td>31.071068</td>\n",
       "      <td>150.0</td>\n",
       "      <td>195.003704</td>\n",
       "      <td>216.0</td>\n",
       "    </tr>\n",
       "    <tr>\n",
       "      <th>2</th>\n",
       "      <td>3</td>\n",
       "      <td>NaN</td>\n",
       "      <td>18.50</td>\n",
       "      <td>4.853342</td>\n",
       "      <td>-89.696824</td>\n",
       "      <td>5.851375</td>\n",
       "      <td>4.204103</td>\n",
       "      <td>16.071068</td>\n",
       "      <td>80.0</td>\n",
       "      <td>172.581081</td>\n",
       "      <td>198.0</td>\n",
       "    </tr>\n",
       "    <tr>\n",
       "      <th>3</th>\n",
       "      <td>4</td>\n",
       "      <td>NaN</td>\n",
       "      <td>20.25</td>\n",
       "      <td>5.077706</td>\n",
       "      <td>87.705638</td>\n",
       "      <td>7.106784</td>\n",
       "      <td>3.786798</td>\n",
       "      <td>16.949747</td>\n",
       "      <td>152.0</td>\n",
       "      <td>181.172840</td>\n",
       "      <td>203.0</td>\n",
       "    </tr>\n",
       "    <tr>\n",
       "      <th>4</th>\n",
       "      <td>5</td>\n",
       "      <td>NaN</td>\n",
       "      <td>8.75</td>\n",
       "      <td>3.337791</td>\n",
       "      <td>86.555435</td>\n",
       "      <td>5.342336</td>\n",
       "      <td>2.128489</td>\n",
       "      <td>10.914214</td>\n",
       "      <td>57.0</td>\n",
       "      <td>176.571429</td>\n",
       "      <td>197.0</td>\n",
       "    </tr>\n",
       "  </tbody>\n",
       "</table>\n",
       "</div>"
      ],
      "text/plain": [
       "   Grain #  Unnamed: 1     Area  equivalent_diameter  orientation  \\\n",
       "0        1         NaN  9531.50           110.162983    84.172789   \n",
       "1        2         NaN    67.50             9.270581    -7.396922   \n",
       "2        3         NaN    18.50             4.853342   -89.696824   \n",
       "3        4         NaN    20.25             5.077706    87.705638   \n",
       "4        5         NaN     8.75             3.337791    86.555435   \n",
       "\n",
       "   MajorAxisLength  MinorAxisLength    Perimeter  MinIntensity  MeanIntensity  \\\n",
       "0       182.994759       142.225502  4166.742656           6.0      86.684887   \n",
       "1        11.136632         7.995843    31.071068         150.0     195.003704   \n",
       "2         5.851375         4.204103    16.071068          80.0     172.581081   \n",
       "3         7.106784         3.786798    16.949747         152.0     181.172840   \n",
       "4         5.342336         2.128489    10.914214          57.0     176.571429   \n",
       "\n",
       "   MaxIntensity  \n",
       "0         255.0  \n",
       "1         216.0  \n",
       "2         198.0  \n",
       "3         203.0  \n",
       "4         197.0  "
      ]
     },
     "execution_count": 20,
     "metadata": {},
     "output_type": "execute_result"
    }
   ],
   "source": [
    "data=pd.read_csv(\"image_measurements.csv\")\n",
    "data.head()"
   ]
  },
  {
   "cell_type": "code",
   "execution_count": 21,
   "id": "035b47be-6368-471b-a3fa-70f20f55a029",
   "metadata": {
    "tags": []
   },
   "outputs": [],
   "source": [
    "Area =data[\"Area\"]"
   ]
  },
  {
   "cell_type": "code",
   "execution_count": 26,
   "id": "9b99c89e-7bce-4bc7-92e3-de4ad980910f",
   "metadata": {
    "tags": []
   },
   "outputs": [
    {
     "data": {
      "text/plain": [
       "Text(0.5, 1.0, 'Histogram of Particle Area')"
      ]
     },
     "execution_count": 26,
     "metadata": {},
     "output_type": "execute_result"
    },
    {
     "data": {
      "image/png": "[encoded data removed]",
      "text/plain": [
       "<Figure size 1000x500 with 1 Axes>"
      ]
     },
     "metadata": {},
     "output_type": "display_data"
    }
   ],
   "source": [
    "plt.figure(figsize=(10,5))\n",
    "plt.hist(Area, bins=50, range=(10, 200))  # Set the x-axis range to (10, 100)\n",
    "plt.xlabel('Area')\n",
    "plt.ylabel('Frequency')\n",
    "plt.title('Histogram of Particle Area')"
   ]
  },
  {
   "cell_type": "code",
   "execution_count": null,
   "id": "d133a260-96e8-4237-a773-642e43abb3ed",
   "metadata": {},
   "outputs": [],
   "source": []
  }
 ],
 "metadata": {
  "kernelspec": {
   "display_name": "Python 3 (ipykernel)",
   "language": "python",
   "name": "python3"
  },
  "language_info": {
   "codemirror_mode": {
    "name": "ipython",
    "version": 3
   },
   "file_extension": ".py",
   "mimetype": "text/x-python",
   "name": "python",
   "nbconvert_exporter": "python",
   "pygments_lexer": "ipython3",
   "version": "3.11.5"
  }
 },
 "nbformat": 4,
 "nbformat_minor": 5
}
