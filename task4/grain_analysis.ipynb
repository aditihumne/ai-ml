{
 "cells": [
  {
   "cell_type": "code",
   "execution_count": 4,
   "id": "fc42d1cd-c00a-4938-a0f4-431bbc6135c7",
   "metadata": {
    "tags": []
   },
   "outputs": [],
   "source": [
    "import cv2\n",
    "import numpy as np\n",
    "from matplotlib import pyplot as plt\n",
    "from scipy import ndimage\n",
    "from skimage import measure, color, io"
   ]
  },
  {
   "cell_type": "code",
   "execution_count": 5,
   "id": "4882b67d-500c-4460-ad7f-62975e8ae4f6",
   "metadata": {
    "tags": []
   },
   "outputs": [],
   "source": [
    "img1 = cv2.imread(\"Spherical-Aluminum-Nitride.png\")\n",
    "img = cv2.cvtColor(img1,cv2.COLOR_BGR2GRAY)"
   ]
  },
  {
   "cell_type": "code",
   "execution_count": 6,
   "id": "11732bb8-eb11-46fb-9aaf-18690dc283c9",
   "metadata": {},
   "outputs": [],
   "source": [
    "pixels_to_um = 0.5 # 1 pixel = 500 nm (got this from the metadata of original image)\n"
   ]
  },
  {
   "cell_type": "code",
   "execution_count": 24,
   "id": "39a6ce27-a45e-4399-865a-bbecdcbba030",
   "metadata": {
    "tags": []
   },
   "outputs": [
    {
     "data": {
      "text/plain": [
       "-1"
      ]
     },
     "execution_count": 24,
     "metadata": {},
     "output_type": "execute_result"
    }
   ],
   "source": [
    "ret1, thresh = cv2.threshold(img, 30, 255, cv2.THRESH_BINARY)\n",
    "# ret1, thresh = cv2.threshold(img, 0, 255, cv2.THRESH_BINARY+cv2.THRESH_OTSU)\n",
    "cv2.imshow('Colored Grains', thresh)\n",
    "cv2.waitKey(0)"
   ]
  },
  {
   "cell_type": "code",
   "execution_count": 25,
   "id": "b5c69c72-dfb6-4aaf-8a05-8870ed28cfe2",
   "metadata": {},
   "outputs": [
    {
     "data": {
      "text/plain": [
       "-1"
      ]
     },
     "execution_count": 25,
     "metadata": {},
     "output_type": "execute_result"
    }
   ],
   "source": [
    "kernel = np.ones((3,3),np.uint8)\n",
    "opening = cv2.morphologyEx(thresh,cv2.MORPH_OPEN,kernel, iterations = 2)\n",
    "cv2.imshow('Colored Grains',opening )\n",
    "cv2.waitKey(0)\n"
   ]
  },
  {
   "cell_type": "code",
   "execution_count": null,
   "id": "984357ff-e319-4068-b31d-102bbca3db2d",
   "metadata": {},
   "outputs": [],
   "source": [
    "# from skimage.segmentation import clear_border\n",
    "# opening = clear_border(opening) "
   ]
  },
  {
   "cell_type": "code",
   "execution_count": 26,
   "id": "4df85d3a-73f1-4489-9fd1-44edff0c1e0e",
   "metadata": {
    "tags": []
   },
   "outputs": [
    {
     "data": {
      "text/plain": [
       "-1"
      ]
     },
     "execution_count": 26,
     "metadata": {},
     "output_type": "execute_result"
    }
   ],
   "source": [
    "sure_bg = cv2.dilate(opening,kernel,iterations=2)\n",
    "cv2.imshow('Colored Grains',sure_bg )\n",
    "cv2.waitKey(0)"
   ]
  },
  {
   "cell_type": "code",
   "execution_count": 45,
   "id": "323b1d90-adfa-4c1f-a85d-599bf5dabbc3",
   "metadata": {
    "tags": []
   },
   "outputs": [
    {
     "data": {
      "text/plain": [
       "-1"
      ]
     },
     "execution_count": 45,
     "metadata": {},
     "output_type": "execute_result"
    }
   ],
   "source": [
    "dist_transform = cv2.distanceTransform(opening,cv2.DIST_L2,3)\n",
    "cv2.imshow('Colored Grains',dist_transform)\n",
    "cv2.waitKey(0)"
   ]
  },
  {
   "cell_type": "code",
   "execution_count": 28,
   "id": "07de8379-7e29-4ff2-8529-a0d15c5da5c2",
   "metadata": {
    "tags": []
   },
   "outputs": [],
   "source": [
    "ret2, sure_fg = cv2.threshold(dist_transform,0.2*dist_transform.max(),255,0)"
   ]
  },
  {
   "cell_type": "code",
   "execution_count": 29,
   "id": "143bb528-b1c7-43ce-b6d5-ec72c0b4cc5e",
   "metadata": {
    "tags": []
   },
   "outputs": [
    {
     "data": {
      "text/plain": [
       "-1"
      ]
     },
     "execution_count": 29,
     "metadata": {},
     "output_type": "execute_result"
    }
   ],
   "source": [
    "sure_fg = np.uint8(sure_fg)\n",
    "unknown = cv2.subtract(sure_bg,sure_fg)\n",
    "cv2.imshow('Colored Grains', unknown)\n",
    "cv2.waitKey(0)"
   ]
  },
  {
   "cell_type": "code",
   "execution_count": 30,
   "id": "098b4efa-3a08-435b-ab4b-4193da972a6d",
   "metadata": {
    "tags": []
   },
   "outputs": [],
   "source": [
    "ret3, markers = cv2.connectedComponents(sure_fg)\n"
   ]
  },
  {
   "cell_type": "code",
   "execution_count": 31,
   "id": "53584889-ac78-4c70-9ac2-cdfa6332037c",
   "metadata": {
    "tags": []
   },
   "outputs": [],
   "source": [
    "markers = markers+10\n",
    "\n",
    "# Now, mark the region of unknown with zero\n",
    "markers[unknown==255] = 0"
   ]
  },
  {
   "cell_type": "code",
   "execution_count": 32,
   "id": "271c6888-5005-4b0f-9945-7cd08868f772",
   "metadata": {
    "tags": []
   },
   "outputs": [],
   "source": [
    "markers = cv2.watershed(img1,markers)"
   ]
  },
  {
   "cell_type": "code",
   "execution_count": 41,
   "id": "c2a234b5-8b13-4629-992a-07166c6f534c",
   "metadata": {
    "tags": []
   },
   "outputs": [
    {
     "data": {
      "text/plain": [
       "-1"
      ]
     },
     "execution_count": 41,
     "metadata": {},
     "output_type": "execute_result"
    }
   ],
   "source": [
    "img1[markers == -1] = [0,255,255]  \n",
    "\n",
    "img2 = color.label2rgb(markers, bg_label=0)\n",
    "\n",
    "cv2.imshow('Overlay on original image', img1)\n",
    "cv2.imshow('Colored Grains', img2)\n",
    "cv2.waitKey(0)\n"
   ]
  },
  {
   "cell_type": "code",
   "execution_count": 34,
   "id": "b9ffde1a-8903-4cfc-b136-f123912e626a",
   "metadata": {
    "tags": []
   },
   "outputs": [],
   "source": [
    "regions = measure.regionprops(markers, intensity_image=img)\n"
   ]
  },
  {
   "cell_type": "code",
   "execution_count": 38,
   "id": "570cfd16-97ce-44de-9235-9fe8e89005b7",
   "metadata": {
    "tags": []
   },
   "outputs": [
    {
     "name": "stdout",
     "output_type": "stream",
     "text": [
      "Label: 10 Area: 35842.0\n",
      "Label: 11 Area: 4927.0\n",
      "Label: 12 Area: 4231.0\n",
      "Label: 13 Area: 861.0\n",
      "Label: 14 Area: 3209.0\n",
      "Label: 15 Area: 556.0\n",
      "Label: 16 Area: 4832.0\n",
      "Label: 17 Area: 8487.0\n",
      "Label: 18 Area: 8127.0\n",
      "Label: 19 Area: 7401.0\n",
      "Label: 20 Area: 218.0\n",
      "Label: 21 Area: 6328.0\n",
      "Label: 22 Area: 338.0\n",
      "Label: 23 Area: 857.0\n",
      "Label: 24 Area: 8924.0\n",
      "Label: 25 Area: 3498.0\n",
      "Label: 26 Area: 8486.0\n",
      "Label: 27 Area: 802.0\n",
      "Label: 28 Area: 6308.0\n",
      "Label: 29 Area: 22.0\n",
      "Label: 30 Area: 1.0\n",
      "Label: 31 Area: 9483.0\n",
      "Label: 32 Area: 2442.0\n",
      "Label: 33 Area: 2364.0\n",
      "Label: 34 Area: 890.0\n",
      "Label: 35 Area: 1383.0\n",
      "Label: 36 Area: 656.0\n"
     ]
    }
   ],
   "source": [
    "#Can print various parameters for all objects\n",
    "for prop in regions:\n",
    "    print('Label: {} Area: {}'.format(prop.label, prop.area))\n",
    "\n",
    "#Best way is to output all properties to a csv file\n",
    "#Let us pick which ones we want to export. \n",
    "\n",
    "# propList = ['Area',\n",
    "            # 'equivalent_diameter', #Added... verify if it works\n",
    "            # 'orientation', #Added, verify if it works. Angle btwn x-axis and major axis.\n",
    "            # 'MajorAxisLength',\n",
    "            # 'MinorAxisLength',\n",
    "            # 'Perimeter',\n",
    "            # 'MinIntensity',\n",
    "            # 'MeanIntensity',\n",
    "            # 'MaxIntensity']    \n",
    "    \n"
   ]
  },
  {
   "cell_type": "code",
   "execution_count": 42,
   "id": "c2d8340b-e70a-4c0a-949b-40dceb1ca9f4",
   "metadata": {
    "tags": []
   },
   "outputs": [],
   "source": [
    "propList = ['Area',\n",
    "            'equivalent_diameter', #Added... verify if it works\n",
    "            'orientation', #Added, verify if it works. Angle btwn x-axis and major axis.\n",
    "            'MajorAxisLength',\n",
    "            'MinorAxisLength',\n",
    "            'Perimeter',\n",
    "            'MinIntensity',\n",
    "            'MeanIntensity',\n",
    "            'MaxIntensity']    \n",
    "    "
   ]
  },
  {
   "cell_type": "code",
   "execution_count": 44,
   "id": "f8eb7be5-86be-402e-a399-a95a04d85774",
   "metadata": {
    "tags": []
   },
   "outputs": [],
   "source": [
    "output_file = open('image_measurements.csv', 'w')\n",
    "output_file.write('Grain #' + \",\" + \",\" + \",\".join(propList) + '\\n') #join strings in array by commas, \n",
    "#First cell to print grain number\n",
    "#Second cell blank as we will not print Label column\n",
    "\n",
    "grain_number = 1\n",
    "for region_props in regions:\n",
    "    output_file.write(str(grain_number) + ',')\n",
    "    #output cluster properties to the excel file\n",
    "#    output_file.write(str(region_props['Label']))\n",
    "    for i,prop in enumerate(propList):\n",
    "        if(prop == 'Area'): \n",
    "            to_print = region_props[prop]*pixels_to_um**2   #Convert pixel square to um square\n",
    "        elif(prop == 'orientation'): \n",
    "            to_print = region_props[prop]*57.2958  #Convert to degrees from radians\n",
    "        elif(prop.find('Intensity') < 0):          # Any prop without Intensity in its name\n",
    "            to_print = region_props[prop]*pixels_to_um\n",
    "        else: \n",
    "            to_print = region_props[prop]     #Reamining props, basically the ones with Intensity in its name\n",
    "        output_file.write(',' + str(to_print))\n",
    "    output_file.write('\\n')\n",
    "    grain_number += 1\n",
    "    \n",
    "output_file.close()   #Closes the file, otherwise it would be read only. "
   ]
  },
  {
   "cell_type": "code",
   "execution_count": null,
   "id": "0fb33215-4843-4053-9975-47a24f8d6c26",
   "metadata": {},
   "outputs": [],
   "source": []
  }
 ],
 "metadata": {
  "kernelspec": {
   "display_name": "Python 3 (ipykernel)",
   "language": "python",
   "name": "python3"
  },
  "language_info": {
   "codemirror_mode": {
    "name": "ipython",
    "version": 3
   },
   "file_extension": ".py",
   "mimetype": "text/x-python",
   "name": "python",
   "nbconvert_exporter": "python",
   "pygments_lexer": "ipython3",
   "version": "3.11.5"
  }
 },
 "nbformat": 4,
 "nbformat_minor": 5
}
